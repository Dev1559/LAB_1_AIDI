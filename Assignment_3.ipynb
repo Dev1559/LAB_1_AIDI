{
 "cells": [
  {
   "cell_type": "code",
   "execution_count": 1,
   "metadata": {},
   "outputs": [],
   "source": [
    "#Load Libraries\n",
    "import pandas as pd\n",
    "import numpy as np\n",
    "import matplotlib.pyplot as plt\n",
    "%matplotlib inline\n",
    "import seaborn as sns"
   ]
  },
  {
   "cell_type": "code",
   "execution_count": 2,
   "metadata": {},
   "outputs": [
    {
     "data": {
      "text/html": [
       "<div>\n",
       "<style scoped>\n",
       "    .dataframe tbody tr th:only-of-type {\n",
       "        vertical-align: middle;\n",
       "    }\n",
       "\n",
       "    .dataframe tbody tr th {\n",
       "        vertical-align: top;\n",
       "    }\n",
       "\n",
       "    .dataframe thead th {\n",
       "        text-align: right;\n",
       "    }\n",
       "</style>\n",
       "<table border=\"1\" class=\"dataframe\">\n",
       "  <thead>\n",
       "    <tr style=\"text-align: right;\">\n",
       "      <th></th>\n",
       "      <th>AREA</th>\n",
       "      <th>PERIMETER</th>\n",
       "      <th>MAJORAXIS</th>\n",
       "      <th>MINORAXIS</th>\n",
       "      <th>ECCENTRICITY</th>\n",
       "      <th>CONVEX_AREA</th>\n",
       "      <th>EXTENT</th>\n",
       "      <th>CLASS</th>\n",
       "    </tr>\n",
       "  </thead>\n",
       "  <tbody>\n",
       "    <tr>\n",
       "      <th>0</th>\n",
       "      <td>15231</td>\n",
       "      <td>525.578979</td>\n",
       "      <td>229.749878</td>\n",
       "      <td>85.093788</td>\n",
       "      <td>0.928882</td>\n",
       "      <td>15617</td>\n",
       "      <td>0.572896</td>\n",
       "      <td>Cammeo</td>\n",
       "    </tr>\n",
       "    <tr>\n",
       "      <th>1</th>\n",
       "      <td>14656</td>\n",
       "      <td>494.311005</td>\n",
       "      <td>206.020065</td>\n",
       "      <td>91.730972</td>\n",
       "      <td>0.895405</td>\n",
       "      <td>15072</td>\n",
       "      <td>0.615436</td>\n",
       "      <td>Cammeo</td>\n",
       "    </tr>\n",
       "    <tr>\n",
       "      <th>2</th>\n",
       "      <td>14634</td>\n",
       "      <td>501.122009</td>\n",
       "      <td>214.106781</td>\n",
       "      <td>87.768288</td>\n",
       "      <td>0.912118</td>\n",
       "      <td>14954</td>\n",
       "      <td>0.693259</td>\n",
       "      <td>Cammeo</td>\n",
       "    </tr>\n",
       "    <tr>\n",
       "      <th>3</th>\n",
       "      <td>13176</td>\n",
       "      <td>458.342987</td>\n",
       "      <td>193.337387</td>\n",
       "      <td>87.448395</td>\n",
       "      <td>0.891861</td>\n",
       "      <td>13368</td>\n",
       "      <td>0.640669</td>\n",
       "      <td>Cammeo</td>\n",
       "    </tr>\n",
       "    <tr>\n",
       "      <th>4</th>\n",
       "      <td>14688</td>\n",
       "      <td>507.166992</td>\n",
       "      <td>211.743378</td>\n",
       "      <td>89.312454</td>\n",
       "      <td>0.906691</td>\n",
       "      <td>15262</td>\n",
       "      <td>0.646024</td>\n",
       "      <td>Cammeo</td>\n",
       "    </tr>\n",
       "  </tbody>\n",
       "</table>\n",
       "</div>"
      ],
      "text/plain": [
       "    AREA   PERIMETER   MAJORAXIS  MINORAXIS  ECCENTRICITY  CONVEX_AREA  \\\n",
       "0  15231  525.578979  229.749878  85.093788      0.928882        15617   \n",
       "1  14656  494.311005  206.020065  91.730972      0.895405        15072   \n",
       "2  14634  501.122009  214.106781  87.768288      0.912118        14954   \n",
       "3  13176  458.342987  193.337387  87.448395      0.891861        13368   \n",
       "4  14688  507.166992  211.743378  89.312454      0.906691        15262   \n",
       "\n",
       "     EXTENT   CLASS  \n",
       "0  0.572896  Cammeo  \n",
       "1  0.615436  Cammeo  \n",
       "2  0.693259  Cammeo  \n",
       "3  0.640669  Cammeo  \n",
       "4  0.646024  Cammeo  "
      ]
     },
     "execution_count": 2,
     "metadata": {},
     "output_type": "execute_result"
    }
   ],
   "source": [
    "#Load Data\n",
    "df = pd.read_csv(\"C:\\\\Users\\\\devgo\\\\Downloads\\\\ricedataset.csv\")\n",
    "df.head()"
   ]
  },
  {
   "cell_type": "code",
   "execution_count": 3,
   "metadata": {},
   "outputs": [
    {
     "data": {
      "text/plain": [
       "array(['Cammeo', 'Osmancik'], dtype=object)"
      ]
     },
     "execution_count": 3,
     "metadata": {},
     "output_type": "execute_result"
    }
   ],
   "source": [
    "#Identify number of Classes (i.e. Species)\n",
    "df.CLASS.unique()"
   ]
  },
  {
   "cell_type": "code",
   "execution_count": 4,
   "metadata": {},
   "outputs": [
    {
     "data": {
      "text/html": [
       "<div>\n",
       "<style scoped>\n",
       "    .dataframe tbody tr th:only-of-type {\n",
       "        vertical-align: middle;\n",
       "    }\n",
       "\n",
       "    .dataframe tbody tr th {\n",
       "        vertical-align: top;\n",
       "    }\n",
       "\n",
       "    .dataframe thead th {\n",
       "        text-align: right;\n",
       "    }\n",
       "</style>\n",
       "<table border=\"1\" class=\"dataframe\">\n",
       "  <thead>\n",
       "    <tr style=\"text-align: right;\">\n",
       "      <th></th>\n",
       "      <th>AREA</th>\n",
       "      <th>PERIMETER</th>\n",
       "      <th>MAJORAXIS</th>\n",
       "      <th>MINORAXIS</th>\n",
       "      <th>ECCENTRICITY</th>\n",
       "      <th>CONVEX_AREA</th>\n",
       "      <th>EXTENT</th>\n",
       "    </tr>\n",
       "  </thead>\n",
       "  <tbody>\n",
       "    <tr>\n",
       "      <th>count</th>\n",
       "      <td>3810.000000</td>\n",
       "      <td>3810.000000</td>\n",
       "      <td>3810.000000</td>\n",
       "      <td>3810.000000</td>\n",
       "      <td>3810.000000</td>\n",
       "      <td>3810.000000</td>\n",
       "      <td>3810.000000</td>\n",
       "    </tr>\n",
       "    <tr>\n",
       "      <th>mean</th>\n",
       "      <td>12667.727559</td>\n",
       "      <td>454.239180</td>\n",
       "      <td>188.776222</td>\n",
       "      <td>86.313750</td>\n",
       "      <td>0.886871</td>\n",
       "      <td>12952.496850</td>\n",
       "      <td>0.661934</td>\n",
       "    </tr>\n",
       "    <tr>\n",
       "      <th>std</th>\n",
       "      <td>1732.367706</td>\n",
       "      <td>35.597081</td>\n",
       "      <td>17.448679</td>\n",
       "      <td>5.729817</td>\n",
       "      <td>0.020818</td>\n",
       "      <td>1776.972042</td>\n",
       "      <td>0.077239</td>\n",
       "    </tr>\n",
       "    <tr>\n",
       "      <th>min</th>\n",
       "      <td>7551.000000</td>\n",
       "      <td>359.100006</td>\n",
       "      <td>145.264465</td>\n",
       "      <td>59.532406</td>\n",
       "      <td>0.777233</td>\n",
       "      <td>7723.000000</td>\n",
       "      <td>0.497413</td>\n",
       "    </tr>\n",
       "    <tr>\n",
       "      <th>25%</th>\n",
       "      <td>11370.500000</td>\n",
       "      <td>426.144752</td>\n",
       "      <td>174.353855</td>\n",
       "      <td>82.731695</td>\n",
       "      <td>0.872402</td>\n",
       "      <td>11626.250000</td>\n",
       "      <td>0.598862</td>\n",
       "    </tr>\n",
       "    <tr>\n",
       "      <th>50%</th>\n",
       "      <td>12421.500000</td>\n",
       "      <td>448.852493</td>\n",
       "      <td>185.810059</td>\n",
       "      <td>86.434647</td>\n",
       "      <td>0.889050</td>\n",
       "      <td>12706.500000</td>\n",
       "      <td>0.645361</td>\n",
       "    </tr>\n",
       "    <tr>\n",
       "      <th>75%</th>\n",
       "      <td>13950.000000</td>\n",
       "      <td>483.683746</td>\n",
       "      <td>203.550438</td>\n",
       "      <td>90.143677</td>\n",
       "      <td>0.902588</td>\n",
       "      <td>14284.000000</td>\n",
       "      <td>0.726562</td>\n",
       "    </tr>\n",
       "    <tr>\n",
       "      <th>max</th>\n",
       "      <td>18913.000000</td>\n",
       "      <td>548.445984</td>\n",
       "      <td>239.010498</td>\n",
       "      <td>107.542450</td>\n",
       "      <td>0.948007</td>\n",
       "      <td>19099.000000</td>\n",
       "      <td>0.861050</td>\n",
       "    </tr>\n",
       "  </tbody>\n",
       "</table>\n",
       "</div>"
      ],
      "text/plain": [
       "               AREA    PERIMETER    MAJORAXIS    MINORAXIS  ECCENTRICITY  \\\n",
       "count   3810.000000  3810.000000  3810.000000  3810.000000   3810.000000   \n",
       "mean   12667.727559   454.239180   188.776222    86.313750      0.886871   \n",
       "std     1732.367706    35.597081    17.448679     5.729817      0.020818   \n",
       "min     7551.000000   359.100006   145.264465    59.532406      0.777233   \n",
       "25%    11370.500000   426.144752   174.353855    82.731695      0.872402   \n",
       "50%    12421.500000   448.852493   185.810059    86.434647      0.889050   \n",
       "75%    13950.000000   483.683746   203.550438    90.143677      0.902588   \n",
       "max    18913.000000   548.445984   239.010498   107.542450      0.948007   \n",
       "\n",
       "        CONVEX_AREA       EXTENT  \n",
       "count   3810.000000  3810.000000  \n",
       "mean   12952.496850     0.661934  \n",
       "std     1776.972042     0.077239  \n",
       "min     7723.000000     0.497413  \n",
       "25%    11626.250000     0.598862  \n",
       "50%    12706.500000     0.645361  \n",
       "75%    14284.000000     0.726562  \n",
       "max    19099.000000     0.861050  "
      ]
     },
     "execution_count": 4,
     "metadata": {},
     "output_type": "execute_result"
    }
   ],
   "source": [
    "#Key Statistics\n",
    "df.describe()"
   ]
  },
  {
   "cell_type": "code",
   "execution_count": 5,
   "metadata": {},
   "outputs": [
    {
     "data": {
      "text/plain": [
       "<Axes: >"
      ]
     },
     "execution_count": 5,
     "metadata": {},
     "output_type": "execute_result"
    },
    {
     "data": {
      "image/png": "[encoded data removed]",
      "text/plain": [
       "<Figure size 1500x500 with 2 Axes>"
      ]
     },
     "metadata": {},
     "output_type": "display_data"
    }
   ],
   "source": [
    "#Visualization of Correlations\n",
    "data=df.drop(columns='CLASS', axis=1)\n",
    "fig = plt.figure(figsize=(15,5))\n",
    "sns.heatmap(data.corr(),annot=True,cmap=\"Blues\")"
   ]
  },
  {
   "cell_type": "code",
   "execution_count": 8,
   "metadata": {},
   "outputs": [],
   "source": [
    "#Create x and y variables\n",
    "X = df.drop('CLASS',axis=1).to_numpy()\n",
    "y = df['CLASS'].to_numpy()\n",
    "\n",
    "#Create Train and Test datasets\n",
    "from sklearn.model_selection import train_test_split  \n",
    "X_train, X_test, y_train, y_test = train_test_split(X, y, stratify=y,test_size = 0.20,random_state=100)\n",
    "\n",
    "#Scale the data\n",
    "from sklearn.preprocessing import StandardScaler  \n",
    "sc = StandardScaler()  \n",
    "x_train2 = sc.fit_transform(X_train)\n",
    "x_test2 = sc.transform(X_test)"
   ]
  },
  {
   "cell_type": "code",
   "execution_count": 7,
   "metadata": {},
   "outputs": [
    {
     "name": "stdout",
     "output_type": "stream",
     "text": [
      "\n",
      "Estimator: DT\n",
      "[[291  35]\n",
      " [ 45 391]]\n",
      "              precision    recall  f1-score   support\n",
      "\n",
      "      Cammeo       0.87      0.89      0.88       326\n",
      "    Osmancik       0.92      0.90      0.91       436\n",
      "\n",
      "    accuracy                           0.90       762\n",
      "   macro avg       0.89      0.89      0.89       762\n",
      "weighted avg       0.90      0.90      0.90       762\n",
      "\n"
     ]
    }
   ],
   "source": [
    "#Script for Decision Tree\n",
    "from sklearn.tree import DecisionTreeClassifier\n",
    "from sklearn.metrics import classification_report, confusion_matrix  \n",
    "\n",
    "for name,method in [('DT', DecisionTreeClassifier(random_state=100))]: \n",
    "    method.fit(x_train2,y_train)\n",
    "    predict = method.predict(x_test2)\n",
    "    target_names=['Cammeo','Osmancik']\n",
    "    print('\\nEstimator: {}'.format(name)) \n",
    "    print(confusion_matrix(y_test,predict))  \n",
    "    print(classification_report(y_test,predict,target_names=target_names))      "
   ]
  }
 ],
 "metadata": {
  "kernelspec": {
   "display_name": "Python 3 (ipykernel)",
   "language": "python",
   "name": "python3"
  },
  "language_info": {
   "codemirror_mode": {
    "name": "ipython",
    "version": 3
   },
   "file_extension": ".py",
   "mimetype": "text/x-python",
   "name": "python",
   "nbconvert_exporter": "python",
   "pygments_lexer": "ipython3",
   "version": "3.12.4"
  }
 },
 "nbformat": 4,
 "nbformat_minor": 4
}
