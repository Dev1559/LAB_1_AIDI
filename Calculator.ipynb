{
 "cells": [
  {
   "cell_type": "code",
   "execution_count": null,
   "id": "49510909-2512-47ea-a7b5-83a97752baaf",
   "metadata": {},
   "outputs": [
    {
     "name": "stdout",
     "output_type": "stream",
     "text": [
      "Welcome to the Python Calculator!\n",
      "Select an operation:\n",
      "1. Addition\n",
      "2. Subtraction\n",
      "3. Multiplication\n",
      "4. Division\n"
     ]
    },
    {
     "name": "stdin",
     "output_type": "stream",
     "text": [
      "Enter choice (1/2/3/4):  1\n",
      "Enter the first number:  2\n",
      "Enter the second number:  3\n"
     ]
    },
    {
     "name": "stdout",
     "output_type": "stream",
     "text": [
      "The result is: 5.0\n"
     ]
    }
   ],
   "source": [
    "def calculator():\n",
    "    print(\"Welcome to the Python Calculator!\")\n",
    "    print(\"Select an operation:\")\n",
    "    print(\"1. Addition\")\n",
    "    print(\"2. Subtraction\")\n",
    "    print(\"3. Multiplication\")\n",
    "    print(\"4. Division\")\n",
    "\n",
    "    while True:\n",
    "        try:\n",
    "            # Take input from the user\n",
    "            choice = input(\"Enter choice (1/2/3/4): \")\n",
    "\n",
    "            # Check if the choice is valid\n",
    "            if choice not in ('1', '2', '3', '4'):\n",
    "                print(\"Invalid input. Please enter a valid choice.\")\n",
    "                continue\n",
    "\n",
    "            # Input two numbers\n",
    "            num1 = float(input(\"Enter the first number: \"))\n",
    "            num2 = float(input(\"Enter the second number: \"))\n",
    "\n",
    "            # Perform the chosen operation\n",
    "            if choice == '1':\n",
    "                print(f\"The result is: {num1 + num2}\")\n",
    "            elif choice == '2':\n",
    "                print(f\"The result is: {num1 - num2}\")\n",
    "            elif choice == '3':\n",
    "                print(f\"The result is: {num1 * num2}\")\n",
    "            elif choice == '4':\n",
    "                if num2 == 0:\n",
    "                    print(\"Error: Division by zero is not allowed.\")\n",
    "                else:\n",
    "                    print(f\"The result is: {num1 / num2}\")\n",
    "\n",
    "            # Ask if the user wants to perform another calculation\n",
    "            next_calculation = input(\"Do you want to perform another calculation? (yes/no): \").lower()\n",
    "            if next_calculation != 'yes':\n",
    "                print(\"Thank you for using the calculator. Goodbye!\")\n",
    "                break\n",
    "        except ValueError:\n",
    "            print(\"Invalid input. Please enter numeric values.\")\n",
    "\n",
    "# Run the calculator\n",
    "calculator()\n"
   ]
  },
  {
   "cell_type": "code",
   "execution_count": null,
   "id": "2deb2515-280e-498a-9788-83e4069879a5",
   "metadata": {},
   "outputs": [],
   "source": []
  }
 ],
 "metadata": {
  "kernelspec": {
   "display_name": "Python 3 (ipykernel)",
   "language": "python",
   "name": "python3"
  },
  "language_info": {
   "codemirror_mode": {
    "name": "ipython",
    "version": 3
   },
   "file_extension": ".py",
   "mimetype": "text/x-python",
   "name": "python",
   "nbconvert_exporter": "python",
   "pygments_lexer": "ipython3",
   "version": "3.12.4"
  }
 },
 "nbformat": 4,
 "nbformat_minor": 5
}
